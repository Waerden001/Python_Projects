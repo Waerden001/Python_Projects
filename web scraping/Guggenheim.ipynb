{
 "cells": [
  {
   "cell_type": "code",
   "execution_count": 3,
   "metadata": {},
   "outputs": [],
   "source": [
    "import requests"
   ]
  },
  {
   "cell_type": "code",
   "execution_count": 9,
   "metadata": {},
   "outputs": [
    {
     "name": "stdout",
     "output_type": "stream",
     "text": [
      "Collecting bs4Note: you may need to restart the kernel to use updated packages.\n"
     ]
    },
    {
     "name": "stderr",
     "output_type": "stream",
     "text": [
      "WARNING: You are using pip version 20.0.2; however, version 20.1 is available.\n",
      "You should consider upgrading via the 'C:\\Python37\\python.exe -m pip install --upgrade pip' command.\n"
     ]
    },
    {
     "name": "stdout",
     "output_type": "stream",
     "text": [
      "\n",
      "  Downloading bs4-0.0.1.tar.gz (1.1 kB)\n",
      "Collecting beautifulsoup4\n",
      "  Downloading beautifulsoup4-4.9.0-py3-none-any.whl (109 kB)\n",
      "Collecting soupsieve>1.2\n",
      "  Downloading soupsieve-2.0-py2.py3-none-any.whl (32 kB)\n",
      "Installing collected packages: soupsieve, beautifulsoup4, bs4\n",
      "    Running setup.py install for bs4: started\n",
      "    Running setup.py install for bs4: finished with status 'done'\n",
      "Successfully installed beautifulsoup4-4.9.0 bs4-0.0.1 soupsieve-2.0\n"
     ]
    }
   ],
   "source": [
    "pip install bs4"
   ]
  },
  {
   "cell_type": "code",
   "execution_count": 10,
   "metadata": {},
   "outputs": [],
   "source": [
    "import bs4"
   ]
  },
  {
   "cell_type": "code",
   "execution_count": 64,
   "metadata": {},
   "outputs": [],
   "source": [
    "page_1 = \"https://archive.org/details/guggenheimmuseum?&sort=-downloads&page=1\"\n",
    "page_2 = \"https://archive.org/details/guggenheimmuseum?&sort=-downloads&page=2\"\n",
    "page_3 = \"https://archive.org/details/guggenheimmuseum?&sort=-downloads&page=3\"\n",
    "url = [page_1, page_2, page_3]"
   ]
  },
  {
   "cell_type": "code",
   "execution_count": 68,
   "metadata": {},
   "outputs": [],
   "source": [
    "book_list = []\n",
    "for link in url: \n",
    "    res = requests.get(link)\n",
    "    soup = bs4.BeautifulSoup(res.text)\n",
    "    book_elem = soup.find_all(\"div\", class_=\"item-ttl\")\n",
    "    for ele in book_elem:\n",
    "        book_list.append(\"https://archive.org\"+ele.find(\"a\")[\"href\"])"
   ]
  },
  {
   "cell_type": "code",
   "execution_count": 71,
   "metadata": {},
   "outputs": [],
   "source": [
    "import os\n",
    "folder_location = r'C:\\Users\\Waerden\\Desktop\\All about Miga\\Guggenheim'\n",
    "if not os.path.exists(folder_location):os.mkdir(folder_location)"
   ]
  },
  {
   "cell_type": "code",
   "execution_count": 88,
   "metadata": {},
   "outputs": [],
   "source": [
    "import os\n",
    "import requests\n",
    "from urllib.parse import urljoin\n",
    "from bs4 import BeautifulSoup\n",
    "for book in book_list[199:]:\n",
    "    response = requests.get(book)\n",
    "    soup= BeautifulSoup(response.text, \"html.parser\")     \n",
    "    for link in soup.select(\"a[href$='.pdf']\"):\n",
    "        #Name the pdf files using the last portion of each link which are unique in this case\n",
    "        filename = os.path.join(folder_location,link['href'].split('/')[-1])\n",
    "        print(\"Downloading \"+link['href'].split('/')[-1])\n",
    "        with open(filename, 'wb') as f:\n",
    "              f.write(requests.get(urljoin(book,link['href'])).content)\n",
    "              print(link['href'].split('/')[-1]+ \" download complete!\")\n",
    "              "
   ]
  }
 ],
 "metadata": {
  "kernelspec": {
   "display_name": "Python 3.7.4 64-bit",
   "language": "python",
   "name": "python37464bitb2b70d61b2f34a1ab38cd77d7d95e37f"
  },
  "language_info": {
   "codemirror_mode": {
    "name": "ipython",
    "version": 3
   },
   "file_extension": ".py",
   "mimetype": "text/x-python",
   "name": "python",
   "nbconvert_exporter": "python",
   "pygments_lexer": "ipython3",
   "version": "3.7.4"
  }
 },
 "nbformat": 4,
 "nbformat_minor": 2
}
